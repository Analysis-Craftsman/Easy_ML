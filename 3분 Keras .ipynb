{
 "cells": [
  {
   "cell_type": "code",
   "execution_count": 113,
   "metadata": {},
   "outputs": [],
   "source": [
    "from keras.datasets import mnist\n",
    "from keras.models import Sequential\n",
    "from keras.layers.core import Dense, Dropout, Activation\n",
    "from keras.optimizers import Adam\n",
    "from keras.utils import np_utils\n",
    "\n",
    "(train_x, train_y), (test_x, test_y) = mnist.load_data()"
   ]
  },
  {
   "cell_type": "code",
   "execution_count": 114,
   "metadata": {},
   "outputs": [],
   "source": [
    "# 전체 이미지 갯수와 이미지별 가로세로 사이즈의 곱을 이용하여 x값을 수정합니다.\n",
    "train_x = train_x.reshape(len(train_x), 28*28).astype('float32') # 28*28\n",
    "test_x = test_x.reshape(len(test_x), 28*28).astype('float32') # 28*28\n",
    "\n",
    "# 255 픽셀 농도를 활용해서 정도를 표현하며, 데이터 값을 줄여줍니다.\n",
    "train_x /= 255 \n",
    "test_x /= 255\n",
    "\n",
    "# 1~10 까지를 표시하는 배열로 y값을 분류합니다.\n",
    "train_y = np_utils.to_categorical(train_y, 10)\n",
    "test_y = np_utils.to_categorical(test_y, 10)"
   ]
  },
  {
   "cell_type": "code",
   "execution_count": 115,
   "metadata": {},
   "outputs": [],
   "source": [
    "keras_model = Sequential()\n",
    "\n",
    "keras_model.add( Dense(512, input_shape=(28*28,)) )\n",
    "keras_model.add( Activation('relu') )\n",
    "keras_model.add( Dropout(0.2) )\n",
    "\n",
    "keras_model.add( Dense(512) )\n",
    "keras_model.add( Activation('relu') )\n",
    "keras_model.add( Dropout(0.2) )\n",
    "\n",
    "keras_model.add( Dense(10) ) # 10개로 정리\n",
    "\n",
    "keras_model.add( Activation('softmax') )"
   ]
  },
  {
   "cell_type": "code",
   "execution_count": 116,
   "metadata": {},
   "outputs": [],
   "source": [
    "keras_model.compile( loss='categorical_crossentropy', optimizer=Adam(), metrics=['accuracy'] ) # categorical_crossentropy, mse"
   ]
  },
  {
   "cell_type": "code",
   "execution_count": 121,
   "metadata": {},
   "outputs": [
    {
     "name": "stdout",
     "output_type": "stream",
     "text": [
      "Epoch 1/1\n",
      "60000/60000 [==============================] - 14s 235us/step - loss: 0.0544 - accuracy: 0.9826\n"
     ]
    }
   ],
   "source": [
    "keras_trainer = keras_model.fit(train_x, train_y)"
   ]
  },
  {
   "cell_type": "code",
   "execution_count": 91,
   "metadata": {},
   "outputs": [
    {
     "name": "stdout",
     "output_type": "stream",
     "text": [
      "10000/10000 [==============================] - 1s 119us/step\n"
     ]
    }
   ],
   "source": [
    "keras_score = keras_model.evaluate(test_x, test_y, verbose=1)"
   ]
  },
  {
   "cell_type": "code",
   "execution_count": 123,
   "metadata": {},
   "outputs": [
    {
     "name": "stdout",
     "output_type": "stream",
     "text": [
      "loss = 13.424786205608397\n"
     ]
    }
   ],
   "source": [
    "# 손실률\n",
    "print( 'loss =', keras_score[0]*100 )"
   ]
  },
  {
   "cell_type": "code",
   "execution_count": 122,
   "metadata": {},
   "outputs": [
    {
     "name": "stdout",
     "output_type": "stream",
     "text": [
      "accuracy = 95.62000036239624\n"
     ]
    }
   ],
   "source": [
    "# 정답률\n",
    "print( 'accuracy =', keras_score[1]*100 )"
   ]
  }
 ],
 "metadata": {
  "kernelspec": {
   "display_name": "Python 3",
   "language": "python",
   "name": "python3"
  },
  "language_info": {
   "codemirror_mode": {
    "name": "ipython",
    "version": 3
   },
   "file_extension": ".py",
   "mimetype": "text/x-python",
   "name": "python",
   "nbconvert_exporter": "python",
   "pygments_lexer": "ipython3",
   "version": "3.8.3"
  }
 },
 "nbformat": 4,
 "nbformat_minor": 4
}
